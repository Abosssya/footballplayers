{
 "cells": [
  {
   "cell_type": "code",
   "execution_count": 2,
   "metadata": {},
   "outputs": [
    {
     "data": {
      "text/plain": [
       "0         CF,RW,ST\n",
       "1        CAM,RM,CM\n",
       "2           CM,CAM\n",
       "3            LW,ST\n",
       "4               CB\n",
       "           ...    \n",
       "17949    RM,CAM,CM\n",
       "17950           LB\n",
       "17951           GK\n",
       "17952        ST,LM\n",
       "17953           ST\n",
       "Name: positions, Length: 17954, dtype: object"
      ]
     },
     "execution_count": 2,
     "metadata": {},
     "output_type": "execute_result"
    }
   ],
   "source": [
    "import pandas as pd \n",
    "df = pd.read_csv('/Users/abay/Downloads/fifa_players.csv')\n",
    "\n",
    "df['positions']"
   ]
  },
  {
   "cell_type": "code",
   "execution_count": 3,
   "metadata": {},
   "outputs": [],
   "source": [
    "# Top 10 Players Based On Overall Rating"
   ]
  },
  {
   "cell_type": "code",
   "execution_count": 4,
   "metadata": {},
   "outputs": [
    {
     "data": {
      "text/html": [
       "<div>\n",
       "<style scoped>\n",
       "    .dataframe tbody tr th:only-of-type {\n",
       "        vertical-align: middle;\n",
       "    }\n",
       "\n",
       "    .dataframe tbody tr th {\n",
       "        vertical-align: top;\n",
       "    }\n",
       "\n",
       "    .dataframe thead th {\n",
       "        text-align: right;\n",
       "    }\n",
       "</style>\n",
       "<table border=\"1\" class=\"dataframe\">\n",
       "  <thead>\n",
       "    <tr style=\"text-align: right;\">\n",
       "      <th></th>\n",
       "      <th>overall_rating</th>\n",
       "    </tr>\n",
       "    <tr>\n",
       "      <th>name</th>\n",
       "      <th></th>\n",
       "    </tr>\n",
       "  </thead>\n",
       "  <tbody>\n",
       "    <tr>\n",
       "      <th>Cristiano Ronaldo</th>\n",
       "      <td>94</td>\n",
       "    </tr>\n",
       "    <tr>\n",
       "      <th>L. Messi</th>\n",
       "      <td>94</td>\n",
       "    </tr>\n",
       "    <tr>\n",
       "      <th>Neymar Jr</th>\n",
       "      <td>92</td>\n",
       "    </tr>\n",
       "    <tr>\n",
       "      <th>De Gea</th>\n",
       "      <td>91</td>\n",
       "    </tr>\n",
       "    <tr>\n",
       "      <th>E. Hazard</th>\n",
       "      <td>91</td>\n",
       "    </tr>\n",
       "    <tr>\n",
       "      <th>K. De Bruyne</th>\n",
       "      <td>91</td>\n",
       "    </tr>\n",
       "    <tr>\n",
       "      <th>L. Modrić</th>\n",
       "      <td>91</td>\n",
       "    </tr>\n",
       "    <tr>\n",
       "      <th>L. Suárez</th>\n",
       "      <td>91</td>\n",
       "    </tr>\n",
       "    <tr>\n",
       "      <th>J. Oblak</th>\n",
       "      <td>90</td>\n",
       "    </tr>\n",
       "    <tr>\n",
       "      <th>R. Lewandowski</th>\n",
       "      <td>90</td>\n",
       "    </tr>\n",
       "  </tbody>\n",
       "</table>\n",
       "</div>"
      ],
      "text/plain": [
       "                   overall_rating\n",
       "name                             \n",
       "Cristiano Ronaldo              94\n",
       "L. Messi                       94\n",
       "Neymar Jr                      92\n",
       "De Gea                         91\n",
       "E. Hazard                      91\n",
       "K. De Bruyne                   91\n",
       "L. Modrić                      91\n",
       "L. Suárez                      91\n",
       "J. Oblak                       90\n",
       "R. Lewandowski                 90"
      ]
     },
     "execution_count": 4,
     "metadata": {},
     "output_type": "execute_result"
    }
   ],
   "source": [
    "df_10 = df.sort_values(by='overall_rating',ascending=False).head(10)\n",
    "df_10_pv = df_10.pivot_table(index='name', values='overall_rating', aggfunc='min').sort_values(by='overall_rating',ascending=False)\n",
    "df_10_pv\n"
   ]
  },
  {
   "cell_type": "code",
   "execution_count": 1,
   "metadata": {},
   "outputs": [
    {
     "name": "stderr",
     "output_type": "stream",
     "text": [
      "UsageError: Line magic function `%` not found.\n"
     ]
    }
   ],
   "source": [
    "# Avg Overall Rating Of Each Line(defence, midfied, attack)"
   ]
  },
  {
   "cell_type": "code",
   "execution_count": 2,
   "metadata": {},
   "outputs": [],
   "source": [
    "# Min and Max rating for each line"
   ]
  },
  {
   "cell_type": "code",
   "execution_count": 5,
   "metadata": {},
   "outputs": [
    {
     "name": "stdout",
     "output_type": "stream",
     "text": [
      "Min overall rating for each line is  positions\n",
      "Attack      66.0\n",
      "Defence     66.0\n",
      "Midfield    67.0\n",
      "Name: overall_rating, dtype: float64\n",
      "Max overall rating for each line is  positions\n",
      "Attack      66.0\n",
      "Defence     66.0\n",
      "Midfield    67.0\n",
      "Name: overall_rating, dtype: float64\n"
     ]
    }
   ],
   "source": [
    "df_line = df.copy() \n",
    "def line(row):\n",
    "    if any(position in row for position in ['GK', 'CB', 'LB', 'RB']):\n",
    "        return 'Defence'\n",
    "    if any(position in row for position in ['CDM', 'CM', 'LM', 'RM', 'CAM']):\n",
    "        return 'Midfield'\n",
    "    else:\n",
    "        return 'Attack'\n",
    "    \n",
    "df_line['positions'] = df_line['positions'].apply(line)\n",
    "df_line_min = df_line.groupby('positions')['overall_rating'].median()\n",
    "df_line_max = df_line.groupby('positions')['overall_rating'].median()\n",
    "\n",
    "print('Min overall rating for each line is ', df_line_min)\n",
    "print('Max overall rating for each line is ', df_line_max) \n"
   ]
  }
 ],
 "metadata": {
  "kernelspec": {
   "display_name": "python_project",
   "language": "python",
   "name": "python3"
  },
  "language_info": {
   "codemirror_mode": {
    "name": "ipython",
    "version": 3
   },
   "file_extension": ".py",
   "mimetype": "text/x-python",
   "name": "python",
   "nbconvert_exporter": "python",
   "pygments_lexer": "ipython3",
   "version": "3.11.9"
  }
 },
 "nbformat": 4,
 "nbformat_minor": 2
}
