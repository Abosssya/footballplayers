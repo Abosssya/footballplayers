{
 "cells": [
  {
   "cell_type": "code",
   "execution_count": 1,
   "metadata": {},
   "outputs": [],
   "source": [
    "# Importing libraries and data\n",
    "import pandas as pd \n",
    "import matplotlib.pyplot as plt\n",
    "import numpy as np\n",
    "# reading data\n",
    "df = pd.read_csv('/Users/abay/Downloads/fifa_players.csv')"
   ]
  },
  {
   "cell_type": "markdown",
   "metadata": {},
   "source": [
    "# Selecting TOP 5 Countries with the most players\n"
   ]
  },
  {
   "cell_type": "code",
   "execution_count": 7,
   "metadata": {},
   "outputs": [
    {
     "data": {
      "text/plain": [
       "nationality\n",
       "England      1658\n",
       "Germany      1199\n",
       "Spain        1070\n",
       "France        925\n",
       "Argentina     904\n",
       "Name: name, dtype: int64"
      ]
     },
     "execution_count": 7,
     "metadata": {},
     "output_type": "execute_result"
    }
   ],
   "source": [
    "# new df \n",
    "df_nations = df.copy()\n",
    "df_nations_5 =df.groupby('nationality')['name'].agg('size').sort_values(ascending=False).head(5)\n",
    "\n",
    "df_nations_5"
   ]
  },
  {
   "cell_type": "markdown",
   "metadata": {},
   "source": [
    "Defining if nation is df_nations_5 and creating the df based on it"
   ]
  },
  {
   "cell_type": "code",
   "execution_count": 41,
   "metadata": {},
   "outputs": [
    {
     "name": "stderr",
     "output_type": "stream",
     "text": [
      "/var/folders/vw/42wt165574b7245nzwcs1t4w0000gn/T/ipykernel_85086/414985017.py:17: SettingWithCopyWarning: \n",
      "A value is trying to be set on a copy of a slice from a DataFrame.\n",
      "Try using .loc[row_indexer,col_indexer] = value instead\n",
      "\n",
      "See the caveats in the documentation: https://pandas.pydata.org/pandas-docs/stable/user_guide/indexing.html#returning-a-view-versus-a-copy\n",
      "  df_nations['nationality'] = df_nations['nationality'].apply(nations)\n"
     ]
    },
    {
     "data": {
      "text/html": [
       "<div>\n",
       "<style scoped>\n",
       "    .dataframe tbody tr th:only-of-type {\n",
       "        vertical-align: middle;\n",
       "    }\n",
       "\n",
       "    .dataframe tbody tr th {\n",
       "        vertical-align: top;\n",
       "    }\n",
       "\n",
       "    .dataframe thead th {\n",
       "        text-align: right;\n",
       "    }\n",
       "</style>\n",
       "<table border=\"1\" class=\"dataframe\">\n",
       "  <thead>\n",
       "    <tr style=\"text-align: right;\">\n",
       "      <th></th>\n",
       "      <th>name</th>\n",
       "      <th>full_name</th>\n",
       "      <th>birth_date</th>\n",
       "      <th>age</th>\n",
       "      <th>height_cm</th>\n",
       "      <th>weight_kgs</th>\n",
       "      <th>positions</th>\n",
       "      <th>nationality</th>\n",
       "      <th>overall_rating</th>\n",
       "      <th>potential</th>\n",
       "      <th>...</th>\n",
       "      <th>long_shots</th>\n",
       "      <th>aggression</th>\n",
       "      <th>interceptions</th>\n",
       "      <th>positioning</th>\n",
       "      <th>vision</th>\n",
       "      <th>penalties</th>\n",
       "      <th>composure</th>\n",
       "      <th>marking</th>\n",
       "      <th>standing_tackle</th>\n",
       "      <th>sliding_tackle</th>\n",
       "    </tr>\n",
       "  </thead>\n",
       "  <tbody>\n",
       "    <tr>\n",
       "      <th>0</th>\n",
       "      <td>L. Messi</td>\n",
       "      <td>Lionel Andrés Messi Cuccittini</td>\n",
       "      <td>6/24/1987</td>\n",
       "      <td>31</td>\n",
       "      <td>170.18</td>\n",
       "      <td>72.1</td>\n",
       "      <td>CF,RW,ST</td>\n",
       "      <td>Argentina</td>\n",
       "      <td>94</td>\n",
       "      <td>94</td>\n",
       "      <td>...</td>\n",
       "      <td>94</td>\n",
       "      <td>48</td>\n",
       "      <td>22</td>\n",
       "      <td>94</td>\n",
       "      <td>94</td>\n",
       "      <td>75</td>\n",
       "      <td>96</td>\n",
       "      <td>33</td>\n",
       "      <td>28</td>\n",
       "      <td>26</td>\n",
       "    </tr>\n",
       "    <tr>\n",
       "      <th>2</th>\n",
       "      <td>P. Pogba</td>\n",
       "      <td>Paul Pogba</td>\n",
       "      <td>3/15/1993</td>\n",
       "      <td>25</td>\n",
       "      <td>190.50</td>\n",
       "      <td>83.9</td>\n",
       "      <td>CM,CAM</td>\n",
       "      <td>France</td>\n",
       "      <td>88</td>\n",
       "      <td>91</td>\n",
       "      <td>...</td>\n",
       "      <td>82</td>\n",
       "      <td>78</td>\n",
       "      <td>64</td>\n",
       "      <td>82</td>\n",
       "      <td>88</td>\n",
       "      <td>82</td>\n",
       "      <td>87</td>\n",
       "      <td>63</td>\n",
       "      <td>67</td>\n",
       "      <td>67</td>\n",
       "    </tr>\n",
       "    <tr>\n",
       "      <th>6</th>\n",
       "      <td>K. Mbappé</td>\n",
       "      <td>Kylian Mbappé</td>\n",
       "      <td>12/20/1998</td>\n",
       "      <td>20</td>\n",
       "      <td>152.40</td>\n",
       "      <td>73.0</td>\n",
       "      <td>RW,ST,RM</td>\n",
       "      <td>France</td>\n",
       "      <td>88</td>\n",
       "      <td>95</td>\n",
       "      <td>...</td>\n",
       "      <td>78</td>\n",
       "      <td>62</td>\n",
       "      <td>38</td>\n",
       "      <td>88</td>\n",
       "      <td>82</td>\n",
       "      <td>70</td>\n",
       "      <td>86</td>\n",
       "      <td>34</td>\n",
       "      <td>34</td>\n",
       "      <td>32</td>\n",
       "    </tr>\n",
       "    <tr>\n",
       "      <th>7</th>\n",
       "      <td>S. Agüero</td>\n",
       "      <td>Sergio Leonel Agüero del Castillo</td>\n",
       "      <td>6/2/1988</td>\n",
       "      <td>30</td>\n",
       "      <td>172.72</td>\n",
       "      <td>69.9</td>\n",
       "      <td>ST</td>\n",
       "      <td>Argentina</td>\n",
       "      <td>89</td>\n",
       "      <td>89</td>\n",
       "      <td>...</td>\n",
       "      <td>83</td>\n",
       "      <td>65</td>\n",
       "      <td>24</td>\n",
       "      <td>92</td>\n",
       "      <td>83</td>\n",
       "      <td>83</td>\n",
       "      <td>90</td>\n",
       "      <td>30</td>\n",
       "      <td>20</td>\n",
       "      <td>12</td>\n",
       "    </tr>\n",
       "    <tr>\n",
       "      <th>8</th>\n",
       "      <td>M. Neuer</td>\n",
       "      <td>Manuel Neuer</td>\n",
       "      <td>3/27/1986</td>\n",
       "      <td>32</td>\n",
       "      <td>193.04</td>\n",
       "      <td>92.1</td>\n",
       "      <td>GK</td>\n",
       "      <td>Germany</td>\n",
       "      <td>89</td>\n",
       "      <td>89</td>\n",
       "      <td>...</td>\n",
       "      <td>16</td>\n",
       "      <td>29</td>\n",
       "      <td>30</td>\n",
       "      <td>12</td>\n",
       "      <td>70</td>\n",
       "      <td>47</td>\n",
       "      <td>70</td>\n",
       "      <td>17</td>\n",
       "      <td>10</td>\n",
       "      <td>11</td>\n",
       "    </tr>\n",
       "  </tbody>\n",
       "</table>\n",
       "<p>5 rows × 51 columns</p>\n",
       "</div>"
      ],
      "text/plain": [
       "        name                          full_name  birth_date  age  height_cm  \\\n",
       "0   L. Messi     Lionel Andrés Messi Cuccittini   6/24/1987   31     170.18   \n",
       "2   P. Pogba                         Paul Pogba   3/15/1993   25     190.50   \n",
       "6  K. Mbappé                      Kylian Mbappé  12/20/1998   20     152.40   \n",
       "7  S. Agüero  Sergio Leonel Agüero del Castillo    6/2/1988   30     172.72   \n",
       "8   M. Neuer                       Manuel Neuer   3/27/1986   32     193.04   \n",
       "\n",
       "   weight_kgs positions nationality  overall_rating  potential  ...  \\\n",
       "0        72.1  CF,RW,ST   Argentina              94         94  ...   \n",
       "2        83.9    CM,CAM      France              88         91  ...   \n",
       "6        73.0  RW,ST,RM      France              88         95  ...   \n",
       "7        69.9        ST   Argentina              89         89  ...   \n",
       "8        92.1        GK     Germany              89         89  ...   \n",
       "\n",
       "   long_shots  aggression interceptions  positioning  vision  penalties  \\\n",
       "0          94          48            22           94      94         75   \n",
       "2          82          78            64           82      88         82   \n",
       "6          78          62            38           88      82         70   \n",
       "7          83          65            24           92      83         83   \n",
       "8          16          29            30           12      70         47   \n",
       "\n",
       "  composure  marking standing_tackle  sliding_tackle  \n",
       "0        96       33              28              26  \n",
       "2        87       63              67              67  \n",
       "6        86       34              34              32  \n",
       "7        90       30              20              12  \n",
       "8        70       17              10              11  \n",
       "\n",
       "[5 rows x 51 columns]"
      ]
     },
     "execution_count": 41,
     "metadata": {},
     "output_type": "execute_result"
    }
   ],
   "source": [
    "# using def function to divide it \n",
    "def nations(n):\n",
    "    if  n == 'England' :\n",
    "        return 'England'\n",
    "    if n == 'Germany' :\n",
    "        return 'Germany'\n",
    "    if n == 'Spain' :\n",
    "        return 'Spain'\n",
    "    if n == 'France':\n",
    "        return 'France'\n",
    "    if n == 'Argentina' :\n",
    "        return 'Argentina'\n",
    "    else:\n",
    "        return '#'\n",
    "    \n",
    "# apply(). function\n",
    "df_nations['nationality'] = df_nations['nationality'].apply(nations)\n",
    "\n",
    "# the new df where only top 5 countries are in\n",
    "df_nations_top = df_nations[df_nations['nationality'] != '#']\n",
    "df_nations_top.head(5) #"
   ]
  },
  {
   "cell_type": "markdown",
   "metadata": {},
   "source": [
    "Finding the median value euro of each country for players"
   ]
  },
  {
   "cell_type": "code",
   "execution_count": 44,
   "metadata": {},
   "outputs": [
    {
     "data": {
      "text/plain": [
       "nationality\n",
       "Spain        1200000.0\n",
       "Argentina    1100000.0\n",
       "France        875000.0\n",
       "Germany       675000.0\n",
       "England       450000.0\n",
       "Name: value_euro, dtype: float64"
      ]
     },
     "execution_count": 44,
     "metadata": {},
     "output_type": "execute_result"
    }
   ],
   "source": [
    "df_nations_top_plot = df_nations_top.groupby('nationality')['value_euro'].agg('median')\n",
    "# sorting values\n",
    "df_nations_top_plot = df_nations_top_plot.sort_values(ascending=False)\n",
    "df_nations_top_plot"
   ]
  },
  {
   "cell_type": "markdown",
   "metadata": {},
   "source": [
    "Plotting"
   ]
  },
  {
   "cell_type": "code",
   "execution_count": 50,
   "metadata": {},
   "outputs": [
    {
     "data": {
      "text/plain": [
       "Text(0.5, 0, 'Millions Euro')"
      ]
     },
     "execution_count": 50,
     "metadata": {},
     "output_type": "execute_result"
    },
    {
     "data": {
      "image/png": "[encoded data removed]",
      "text/plain": [
       "<Figure size 640x480 with 1 Axes>"
      ]
     },
     "metadata": {},
     "output_type": "display_data"
    }
   ],
   "source": [
    "df_nations_top_plot.plot(kind='barh')\n",
    "\n",
    "plt.title('Median transfer fee of Top 5 countries with the most players')\n",
    "plt.xlabel('Millions Euro')\n",
    "\n",
    "# 1e6 = 1 * 10^6 = 1 000 000"
   ]
  }
 ],
 "metadata": {
  "kernelspec": {
   "display_name": "python_project",
   "language": "python",
   "name": "python3"
  },
  "language_info": {
   "codemirror_mode": {
    "name": "ipython",
    "version": 3
   },
   "file_extension": ".py",
   "mimetype": "text/x-python",
   "name": "python",
   "nbconvert_exporter": "python",
   "pygments_lexer": "ipython3",
   "version": "3.11.9"
  }
 },
 "nbformat": 4,
 "nbformat_minor": 2
}
